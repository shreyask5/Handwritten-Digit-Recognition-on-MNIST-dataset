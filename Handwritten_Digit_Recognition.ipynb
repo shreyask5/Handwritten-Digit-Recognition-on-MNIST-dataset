{
  "nbformat": 4,
  "nbformat_minor": 0,
  "metadata": {
    "colab": {
      "provenance": [],
      "authorship_tag": "ABX9TyPGrcZ8UqP8yk+OEgaoWRDE"
    },
    "kernelspec": {
      "name": "python3",
      "display_name": "Python 3"
    },
    "language_info": {
      "name": "python"
    }
  },
  "cells": [
    {
      "cell_type": "markdown",
      "source": [
        "#Handwritten Digit Recognition on MNIST dataset\n",
        "\n",
        "Below is the code for building an optical character recognizer (OCR) application capable of recognizing handwritten digits.\n",
        "\n",
        "1. **Import libraries and get the data**\n",
        "  * Libraries like numpy, matplotlib, and keras are imported for numerical computations, plotting visualizations, and building the deep learning model.\n",
        "  * The MNIST dataset, a popular dataset of handwritten digits, is loaded from Keras.\n",
        "\n",
        "2. **Pre-process the data**\n",
        "  * The MNIST dataset is pre-processed to normalize the data between 0 and 1. This is a common practice to improve the training performance of the model.\n",
        "  * The data is then reshaped to add an extra dimension, which is required by the machine learning model.\n",
        "\n",
        "3. **Build the model**\n",
        "  * The speaker mentions that a pre-trained model can be used to save time. However, they don't go into the details of building a model from scratch in this video.\n",
        "\n",
        "4. **Create a function to implement OCR**\n",
        "  * A function will be created to take an image as input and predict the digit using the trained model.\n",
        "\n",
        "5. **Develop the application using Pygame**\n",
        "  * Pygame, a popular Python library for developing games, will be used to create a graphical user interface (GUI) for the application.\n",
        "  * The GUI will allow users to draw digits on a screen using their mouse or keyboard.\n",
        "  * The function created in step 4 will be used to recognize the drawn digit and display the prediction on the screen."
      ],
      "metadata": {
        "id": "aV_nDG4Vm_cJ"
      }
    },
    {
      "cell_type": "markdown",
      "source": [
        "## Importing Libraries"
      ],
      "metadata": {
        "id": "L2ylP8t-obW4"
      }
    },
    {
      "cell_type": "code",
      "execution_count": 8,
      "metadata": {
        "id": "ZKCXXJm_mQaY"
      },
      "outputs": [],
      "source": [
        "import matplotlib as plt\n",
        "import numpy as np\n",
        "import keras\n",
        "from keras.datasets import mnist\n",
        "from keras.models import Sequential\n",
        "from keras.layers import Dense, Conv2D, MaxPool2D, Flatten, Dropout\n",
        "from keras.callbacks import EarlyStopping, ModelCheckpoint"
      ]
    },
    {
      "cell_type": "markdown",
      "source": [
        "## Get the data and pre process it"
      ],
      "metadata": {
        "id": "mzUdRyYLmWbi"
      }
    },
    {
      "cell_type": "code",
      "source": [
        "(X_train, y_train), (X_test, y_test) = mnist.load_data()"
      ],
      "metadata": {
        "id": "W_o_AN-KmVNJ",
        "colab": {
          "base_uri": "https://localhost:8080/"
        },
        "outputId": "7709156f-b44d-4544-9d20-f3591ce23174"
      },
      "execution_count": 9,
      "outputs": [
        {
          "output_type": "stream",
          "name": "stdout",
          "text": [
            "Downloading data from https://storage.googleapis.com/tensorflow/tf-keras-datasets/mnist.npz\n",
            "11490434/11490434 [==============================] - 0s 0us/step\n"
          ]
        }
      ]
    },
    {
      "cell_type": "markdown",
      "source": [
        "## Pre process the data\n"
      ],
      "metadata": {
        "id": "ZnZt2rCYmbfq"
      }
    },
    {
      "cell_type": "code",
      "source": [
        "#Normalize the image to [0,1] image\n",
        "X_train = X_train.astype(np.float32)/255\n",
        "X_test = X_test.astype(np.float32)/255\n",
        "\n",
        "#Reshape / Expand the image to 3 dimension image that is (28,28,1)\n",
        "X_train = np.expand_dims(X_train,-1)\n",
        "X_test = np.expand_dims(X_test,-1)\n",
        "\n",
        "#Convert classes to one hot vectors\n",
        "y_train = keras.utils.to_categorical(y_train)\n",
        "y_test = keras.utils.to_categorical(y_test)\n"
      ],
      "metadata": {
        "id": "7Hn6nBUqmc94"
      },
      "execution_count": 10,
      "outputs": []
    },
    {
      "cell_type": "code",
      "source": [
        "model = Sequential()\n",
        "\n",
        "model.add(Conv2D(32, (3,3), input_shape = (28,28,1), activation = 'relu'))\n",
        "model.add(MaxPool2D((2,2)))\n",
        "\n",
        "model.add(Conv2D(64, (3,3), activation = 'relu'))\n",
        "model.add(MaxPool2D((2,2)))\n",
        "\n",
        "model.add(Flatten())\n",
        "\n",
        "model.add(Dropout(0.25))\n",
        "\n",
        "model.add(Dense(10, activation='softmax'))\n",
        "\n",
        "model.compile(optimizer= 'adam',loss = keras.losses.categorical_crossentropy,metrics = ['accuracy'])\n",
        "\n",
        "\n",
        "\n",
        "#EarlyStopping\n",
        "\n",
        "es = EarlyStopping(monitor = 'val_acc', min_delta = 0.01, patience = 4,verbose =1)\n",
        "\n",
        "#Model Check Point\n",
        "\n",
        "mc = ModelCheckpoint('./bestmodel2.h5',monitors = 'val_acc',verbose = 1,save_best_only=True)\n",
        "\n",
        "cb = [es,mc]"
      ],
      "metadata": {
        "id": "KFZcZcddnlWx"
      },
      "execution_count": 11,
      "outputs": []
    },
    {
      "cell_type": "markdown",
      "source": [
        "## Model Training"
      ],
      "metadata": {
        "id": "RjwjlqfDsg2a"
      }
    },
    {
      "cell_type": "code",
      "source": [
        "his = model.fit(X_train,y_train,epochs = 5, validation_split =0.3,callbacks =cb)\n"
      ],
      "metadata": {
        "colab": {
          "base_uri": "https://localhost:8080/"
        },
        "id": "EVGnXVscn3u6",
        "outputId": "370792dd-fa58-4d6e-f74e-91e993052442"
      },
      "execution_count": 12,
      "outputs": [
        {
          "output_type": "stream",
          "name": "stdout",
          "text": [
            "Epoch 1/5\n",
            "1312/1313 [============================>.] - ETA: 0s - loss: 0.2220 - accuracy: 0.9324"
          ]
        },
        {
          "output_type": "stream",
          "name": "stderr",
          "text": [
            "WARNING:tensorflow:Early stopping conditioned on metric `val_acc` which is not available. Available metrics are: loss,accuracy,val_loss,val_accuracy\n"
          ]
        },
        {
          "output_type": "stream",
          "name": "stdout",
          "text": [
            "\n",
            "Epoch 1: val_loss improved from inf to 0.08013, saving model to ./bestmodel2.h5\n",
            "1313/1313 [==============================] - 38s 29ms/step - loss: 0.2219 - accuracy: 0.9324 - val_loss: 0.0801 - val_accuracy: 0.9755\n",
            "Epoch 2/5\n",
            "   7/1313 [..............................] - ETA: 28s - loss: 0.0605 - accuracy: 0.9866"
          ]
        },
        {
          "output_type": "stream",
          "name": "stderr",
          "text": [
            "/usr/local/lib/python3.10/dist-packages/keras/src/engine/training.py:3103: UserWarning: You are saving your model as an HDF5 file via `model.save()`. This file format is considered legacy. We recommend using instead the native Keras format, e.g. `model.save('my_model.keras')`.\n",
            "  saving_api.save_model(\n"
          ]
        },
        {
          "output_type": "stream",
          "name": "stdout",
          "text": [
            "1312/1313 [============================>.] - ETA: 0s - loss: 0.0726 - accuracy: 0.9777"
          ]
        },
        {
          "output_type": "stream",
          "name": "stderr",
          "text": [
            "WARNING:tensorflow:Early stopping conditioned on metric `val_acc` which is not available. Available metrics are: loss,accuracy,val_loss,val_accuracy\n"
          ]
        },
        {
          "output_type": "stream",
          "name": "stdout",
          "text": [
            "\n",
            "Epoch 2: val_loss improved from 0.08013 to 0.05552, saving model to ./bestmodel2.h5\n",
            "1313/1313 [==============================] - 36s 27ms/step - loss: 0.0727 - accuracy: 0.9776 - val_loss: 0.0555 - val_accuracy: 0.9827\n",
            "Epoch 3/5\n",
            "1312/1313 [============================>.] - ETA: 0s - loss: 0.0525 - accuracy: 0.9834"
          ]
        },
        {
          "output_type": "stream",
          "name": "stderr",
          "text": [
            "WARNING:tensorflow:Early stopping conditioned on metric `val_acc` which is not available. Available metrics are: loss,accuracy,val_loss,val_accuracy\n"
          ]
        },
        {
          "output_type": "stream",
          "name": "stdout",
          "text": [
            "\n",
            "Epoch 3: val_loss did not improve from 0.05552\n",
            "1313/1313 [==============================] - 36s 27ms/step - loss: 0.0524 - accuracy: 0.9834 - val_loss: 0.0608 - val_accuracy: 0.9827\n",
            "Epoch 4/5\n",
            "1311/1313 [============================>.] - ETA: 0s - loss: 0.0427 - accuracy: 0.9866"
          ]
        },
        {
          "output_type": "stream",
          "name": "stderr",
          "text": [
            "WARNING:tensorflow:Early stopping conditioned on metric `val_acc` which is not available. Available metrics are: loss,accuracy,val_loss,val_accuracy\n"
          ]
        },
        {
          "output_type": "stream",
          "name": "stdout",
          "text": [
            "\n",
            "Epoch 4: val_loss improved from 0.05552 to 0.04410, saving model to ./bestmodel2.h5\n",
            "1313/1313 [==============================] - 36s 28ms/step - loss: 0.0427 - accuracy: 0.9866 - val_loss: 0.0441 - val_accuracy: 0.9870\n",
            "Epoch 5/5\n",
            "1312/1313 [============================>.] - ETA: 0s - loss: 0.0370 - accuracy: 0.9881"
          ]
        },
        {
          "output_type": "stream",
          "name": "stderr",
          "text": [
            "WARNING:tensorflow:Early stopping conditioned on metric `val_acc` which is not available. Available metrics are: loss,accuracy,val_loss,val_accuracy\n"
          ]
        },
        {
          "output_type": "stream",
          "name": "stdout",
          "text": [
            "\n",
            "Epoch 5: val_loss did not improve from 0.04410\n",
            "1313/1313 [==============================] - 35s 27ms/step - loss: 0.0370 - accuracy: 0.9881 - val_loss: 0.0444 - val_accuracy: 0.9866\n"
          ]
        }
      ]
    },
    {
      "cell_type": "code",
      "source": [
        "model_S = keras.models.load_model(\"/content/bestmodel2.h5\")\n",
        "score = model_S.evaluate(X_test, y_test)\n",
        "\n",
        "print(f\"The model accuracy is {score[1]}\")\n",
        "\n"
      ],
      "metadata": {
        "colab": {
          "base_uri": "https://localhost:8080/"
        },
        "id": "RfvNEEJNtq3y",
        "outputId": "1b66e7e5-7c71-4865-d011-0ae95fdc0736"
      },
      "execution_count": null,
      "outputs": [
        {
          "output_type": "stream",
          "name": "stdout",
          "text": [
            "313/313 [==============================] - 2s 7ms/step - loss: 0.0322 - accuracy: 0.9900\n",
            "The model accuracy is 0.9900000095367432\n"
          ]
        }
      ]
    },
    {
      "cell_type": "markdown",
      "source": [
        "### Version 1\n",
        "\n",
        "In this iteration:\n",
        "\n",
        "1. Multiple libraries were missing, necessitating a step-by-step installation process for each.\n",
        "   \n",
        "2. Several variables remained undefined, leading to errors during execution.\n",
        "\n",
        "3. Minor issues within the code, such as ensuring non-negative values for calculations (e.g., `max(number_ycord[0]-BOUNDRYINC, 0)`), were addressed.\n",
        "\n",
        "4. Correction was made to the assignment of `textRecObj`, which should have been `textRecObj = textSurface.get_rect()`."
      ],
      "metadata": {
        "id": "rQQNGtQllid8"
      }
    },
    {
      "cell_type": "code",
      "source": [
        "import pygame,sys\n",
        "from pygame.locals import *\n",
        "import numpy as np\n",
        "from keras.models import load_model\n",
        "import cv2\n",
        "\n",
        "WINDOWSIZEX = 640\n",
        "WINDOWSIZEY = 480\n",
        "\n",
        "\n",
        "WHITE = (255,255,255)\n",
        "BLACK = (0,0,0)\n",
        "RED = (255,0,0)\n",
        "\n",
        "IMAGESAVE = False\n",
        "\n",
        "MODEL = load_model(/content/bestmodel2.h5)\n",
        "LABELs = {0:'Zero',1:'One',2:'Two',3:'Three',4:'Four',5:'Five',6:'Six',7:'Seven',8:'Eight',9:'Nine'}\n",
        "#initial py game\n",
        "\n",
        "pygame.init()\n",
        "\n",
        "FONT = pygame.font.Font(\"freesanbold.tff\",18)\n",
        "\n",
        "pygame.display.set_mode((WINDOWSIZEX, WINDOWSIZEY))\n",
        "pygame.display.set_caption(\"Digital Board\")\n",
        "\n",
        "iswriting = False\n",
        "\n",
        "number_xcord = []\n",
        "number_ycord = []\n",
        "\n",
        "image_cnt = 1\n",
        "\n",
        "REDICT = True\n",
        "while True:\n",
        "\n",
        "  for event in pygame.event.get():\n",
        "    if event.type == QUIT:\n",
        "      pygame.quit()\n",
        "      sys.exit()\n",
        "\n",
        "    if event.type == MOUSEMOTION ans iswriting:\n",
        "      xcord, ycord = event.pos\n",
        "      pygame.draw.circle(DISPLAYSURD, WHITE, (xcord, ycord),4,0)\n",
        "\n",
        "    if event.type == MOUSEBUTTONDOWN:\n",
        "      iswriting = True\n",
        "\n",
        "    if event.type == MOUSEBUTTONUP:\n",
        "      iswriting = False\n",
        "      number_xcord = sorted(number_xcord)\n",
        "      number_ycord = sorted(number_ycord)\n",
        "\n",
        "      rect_min_x, rect_max_x = max(number_xcord[0]-BOUNDRYINC , 0), min(WINDOWSIZEX, numer_xcord[-1]+BOUNDRYINC)\n",
        "      rect_min_Y, rect_max_Y = max(number_ycord[0]-BOUNDRYINC), min(numer_ycord[-1]+BOUNDRYINC,WINDOWSIZEX)\n",
        "\n",
        "      number_xcord = []\n",
        "      number_ycord = []\n",
        "\n",
        "      ing_arr = np.array(pygame.PixelArray(DISPLAYSURF))[rect_min_x:rect_max_x, rect_min_Y, rect_max_Y].T.astype(np.float32)\n",
        "\n",
        "      if IMAGESAVE:\n",
        "        cv2.imwrite(\"image.png\")\n",
        "        image_cnt += 1\n",
        "\n",
        "\n",
        "      if PREDICT:\n",
        "        image = cv2.resizer(image_arr,(28,28))\n",
        "        image = np.pad(image, (10,10), 'constant',constant_values = 0 )\n",
        "        image = cv2.resize(image, (28,28))/255\n",
        "\n",
        "        label = str(LABELS[np.argmax(model.predict(image.reshape(1,28,28,1)))])\n",
        "\n",
        "        textSurface = FONT.render(label, True, RED, WHITE)\n",
        "        textRecObj = testing.get_rect()\n",
        "        textRecObj.left , texRecObj.bottom = rec_min_x, rec_max_Y\n",
        "\n",
        "        DISPLAYSURF.blit(textSurface,textRecObj)\n",
        "\n",
        "      if event.type == KEYDOWN:\n",
        "        if event.unicode =='n':\n",
        "          DISPLAYSURF.fill(BLACK)\n",
        "  pygame.display.update()"
      ],
      "metadata": {
        "id": "oWhvHpbTlgR_"
      },
      "execution_count": null,
      "outputs": []
    },
    {
      "cell_type": "markdown",
      "source": [
        "### Version 2\n",
        "\n",
        "In this iteration:\n",
        "\n",
        "1. The implementation was nearly complete; however, a notable issue persisted where the red box around the number failed to render properly."
      ],
      "metadata": {
        "id": "uy4rqkRNln3Y"
      }
    },
    {
      "cell_type": "code",
      "source": [
        "import pygame\n",
        "import sys\n",
        "from pygame.locals import *\n",
        "import numpy as np\n",
        "from numpy import testing\n",
        "from keras.models import load_model\n",
        "import cv2\n",
        "\n",
        "\n",
        "WINDOWSIZEX = 640\n",
        "WINDOWSIZEY = 480\n",
        "\n",
        "WHITE = (255, 255, 255)\n",
        "BLACK = (0, 0, 0)\n",
        "RED = (255, 0, 0)\n",
        "\n",
        "IMAGESAVE = False\n",
        "\n",
        "MODEL = load_model('bestmodel.h5')\n",
        "LABELS = {0: 'Zero', 1: 'One', 2: 'Two', 3: 'Three', 4: 'Four', 5: 'Five', 6: 'Six', 7: 'Seven', 8: 'Eight', 9: 'Nine'}\n",
        "# initial py game\n",
        "\n",
        "pygame.init()\n",
        "BOUNDRYINC = 5\n",
        "\n",
        "DISPLAYSURF = pygame.display.set_mode((WINDOWSIZEX, WINDOWSIZEY))\n",
        "pygame.display.set_caption(\"Digital Board\")\n",
        "\n",
        "iswriting = False\n",
        "\n",
        "number_xcord = []\n",
        "number_ycord = []\n",
        "\n",
        "image_cnt = 1\n",
        "\n",
        "PREDICT = True\n",
        "while True:\n",
        "\n",
        "    for event in pygame.event.get():\n",
        "        if event.type == KEYDOWN:\n",
        "            if event.key == K_n:  # Check if 'n' key is pressed\n",
        "                DISPLAYSURF.fill((0, 0, 0))\n",
        "\n",
        "        if event.type == QUIT:\n",
        "            pygame.quit()\n",
        "            sys.exit()\n",
        "\n",
        "        if event.type == MOUSEMOTION and iswriting:\n",
        "            xcord, ycord = event.pos\n",
        "            pygame.draw.circle(DISPLAYSURF, WHITE, (xcord, ycord), 4, 0)\n",
        "\n",
        "            number_xcord.append(xcord)\n",
        "            number_ycord.append(ycord)\n",
        "\n",
        "        if event.type == MOUSEBUTTONDOWN:\n",
        "            iswriting = True\n",
        "\n",
        "        if event.type == MOUSEBUTTONUP:\n",
        "            iswriting = False\n",
        "            number_xcord = sorted(number_xcord)\n",
        "            number_ycord = sorted(number_ycord)\n",
        "\n",
        "            rect_min_x, rect_max_x = max(number_xcord[0] - BOUNDRYINC, 0), min(WINDOWSIZEX,number_xcord[-1] + BOUNDRYINC)\n",
        "            rect_min_Y, rect_max_Y = max(number_ycord[0] - BOUNDRYINC, 0), min(number_ycord[-1] + BOUNDRYINC, WINDOWSIZEX)\n",
        "\n",
        "            number_xcord = []\n",
        "            number_ycord = []\n",
        "\n",
        "            image_arr = np.array(pygame.PixelArray(DISPLAYSURF))[rect_min_x:rect_max_x, rect_min_Y: rect_max_Y].T.astype(np.float32)\n",
        "\n",
        "            if IMAGESAVE:\n",
        "                cv2.imwrite(\"image.png\")\n",
        "                image_cnt += 1\n",
        "\n",
        "            if PREDICT:\n",
        "                image = cv2.resize(image_arr, (28, 28))\n",
        "                image = np.pad(image, (10, 10), 'constant', constant_values=0)\n",
        "                image = cv2.resize(image, (28, 28)) / 255\n",
        "\n",
        "                label = str(LABELS[np.argmax(MODEL.predict(image.reshape(1, 28, 28, 1)))])\n",
        "\n",
        "                font = pygame.font.SysFont(None, 36)\n",
        "                textSurface = font.render(label, True, RED, WHITE)\n",
        "                textRecObj = textSurface.get_rect()\n",
        "                textRecObj.left, textRecObj.bottom = rect_min_x, rect_max_Y\n",
        "\n",
        "                DISPLAYSURF.blit(textSurface, textRecObj)\n",
        "\n",
        "\n",
        "    pygame.display.update()\n"
      ],
      "metadata": {
        "id": "U_vcY8C3bzKo"
      },
      "execution_count": null,
      "outputs": []
    },
    {
      "cell_type": "markdown",
      "source": [
        "### Version 3 Final Version\n",
        "\n",
        "In this final iteration:\n",
        "\n",
        "1. The red box issues surrounding the numbers have been successfully resolved, marking the completion of the project."
      ],
      "metadata": {
        "id": "jEu5jN2SlYia"
      }
    },
    {
      "cell_type": "code",
      "source": [
        "import pygame\n",
        "import sys\n",
        "from pygame.locals import *\n",
        "import numpy as np\n",
        "from keras.models import load_model\n",
        "import cv2\n",
        "\n",
        "\n",
        "WINDOWSIZEX = 1280\n",
        "WINDOWSIZEY = 720\n",
        "\n",
        "WHITE = (255, 255, 255)\n",
        "BLACK = (0, 0, 0)\n",
        "RED = (255, 0, 0)\n",
        "\n",
        "IMAGESAVE = False\n",
        "\n",
        "MODEL = load_model('bestmodel.h5')\n",
        "LABELS = {0: 'Zero', 1: 'One', 2: 'Two', 3: 'Three', 4: 'Four', 5: 'Five', 6: 'Six', 7: 'Seven', 8: 'Eight', 9: 'Nine'}\n",
        "# initial py game\n",
        "\n",
        "pygame.init()\n",
        "BOUNDRYINC = 5\n",
        "\n",
        "DISPLAYSURF = pygame.display.set_mode((WINDOWSIZEX, WINDOWSIZEY))\n",
        "pygame.display.set_caption(\"Digital Board\")\n",
        "\n",
        "iswriting = False\n",
        "\n",
        "number_xcord = []\n",
        "number_ycord = []\n",
        "\n",
        "image_cnt = 1\n",
        "\n",
        "PREDICT = True\n",
        "while True:\n",
        "    for event in pygame.event.get():\n",
        "\n",
        "        if event.type == KEYDOWN:\n",
        "            if event.key == K_n:  # Check if 'n' key is pressed\n",
        "                DISPLAYSURF.fill((0, 0, 0))\n",
        "\n",
        "        if event.type == QUIT:\n",
        "            pygame.quit()\n",
        "            sys.exit()\n",
        "\n",
        "        if event.type == MOUSEMOTION and iswriting:\n",
        "            xcord, ycord = event.pos\n",
        "            pygame.draw.circle(DISPLAYSURF, WHITE, (xcord, ycord), 4, 0)\n",
        "\n",
        "            number_xcord.append(xcord)\n",
        "            number_ycord.append(ycord)\n",
        "        if event.type == MOUSEBUTTONDOWN:\n",
        "            iswriting = True\n",
        "\n",
        "        if event.type == MOUSEBUTTONUP:\n",
        "            iswriting = False\n",
        "            number_xcord = sorted(number_xcord)\n",
        "            number_ycord = sorted(number_ycord)\n",
        "\n",
        "            rect_min_x, rect_max_x = max(number_xcord[0] - BOUNDRYINC, 0), min(WINDOWSIZEX,number_xcord[-1] + BOUNDRYINC)\n",
        "            rect_min_Y, rect_max_Y = max(number_ycord[0] - BOUNDRYINC, 0), min(number_ycord[-1] + BOUNDRYINC, WINDOWSIZEX)\n",
        "\n",
        "            number_xcord = []\n",
        "            number_ycord = []\n",
        "\n",
        "            image_arr = np.array(pygame.PixelArray(DISPLAYSURF))[rect_min_x:rect_max_x, rect_min_Y: rect_max_Y].T.astype(np.float32)\n",
        "\n",
        "            if IMAGESAVE:\n",
        "                cv2.imwrite(\"image.png\")\n",
        "                image_cnt += 1\n",
        "\n",
        "            if PREDICT:\n",
        "                image = cv2.resize(image_arr, (28, 28))\n",
        "                image = np.pad(image, (10, 10), 'constant', constant_values=0)\n",
        "                image = cv2.resize(image, (28, 28)) / 255\n",
        "\n",
        "                label = str(LABELS[np.argmax(MODEL.predict(image.reshape(1, 28, 28, 1)))])\n",
        "\n",
        "                font = pygame.font.SysFont(None, 36)\n",
        "                textSurface = font.render(label, True, RED, WHITE)\n",
        "                textRecObj = textSurface.get_rect()\n",
        "                textRecObj.left, textRecObj.bottom = rect_min_x, rect_max_Y\n",
        "                pygame.draw.rect(DISPLAYSURF, RED, (rect_min_x, rect_min_Y, (rect_max_x - rect_min_x), (rect_max_Y - rect_min_Y)), 4)\n",
        "                DISPLAYSURF.blit(textSurface, textRecObj)\n",
        "\n",
        "    pygame.display.update()\n"
      ],
      "metadata": {
        "id": "f4BH9KtulZIu"
      },
      "execution_count": null,
      "outputs": []
    }
  ]
}